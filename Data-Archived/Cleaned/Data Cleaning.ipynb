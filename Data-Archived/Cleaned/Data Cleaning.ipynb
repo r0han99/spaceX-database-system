{
 "cells": [
  {
   "cell_type": "code",
   "execution_count": 20,
   "metadata": {},
   "outputs": [],
   "source": [
    "import pandas as pd \n",
    "import numpy as np"
   ]
  },
  {
   "cell_type": "markdown",
   "metadata": {},
   "source": [
    "**tables with rendundancies**\n",
    "- payloads : missing data in mass\n",
    "- missions : redundancy columns\n",
    "- ships : missing data in mass and drop year\n",
    "- rockets : drop landing legs \n"
   ]
  },
  {
   "cell_type": "code",
   "execution_count": 21,
   "metadata": {},
   "outputs": [],
   "source": [
    "payloads = pd.read_csv('payloads.csv')"
   ]
  },
  {
   "cell_type": "code",
   "execution_count": 22,
   "metadata": {},
   "outputs": [
    {
     "data": {
      "text/plain": [
       "Index(['Unnamed: 0', 'payload_id', 'name', 'type', 'reused', 'manufacturers',\n",
       "       'mass_kg', 'mass_lb', 'orbit', 'reference_system', 'regime'],\n",
       "      dtype='object')"
      ]
     },
     "execution_count": 22,
     "metadata": {},
     "output_type": "execute_result"
    }
   ],
   "source": [
    "payloads.columns"
   ]
  },
  {
   "cell_type": "code",
   "execution_count": 23,
   "metadata": {},
   "outputs": [],
   "source": [
    "payloads = payloads.drop('Unnamed: 0',axis=1)"
   ]
  },
  {
   "cell_type": "code",
   "execution_count": 24,
   "metadata": {},
   "outputs": [],
   "source": [
    "x = payloads.dropna(axis=0)"
   ]
  },
  {
   "cell_type": "code",
   "execution_count": 25,
   "metadata": {},
   "outputs": [
    {
     "data": {
      "text/plain": [
       "payload_id          0\n",
       "name                0\n",
       "type                0\n",
       "reused              0\n",
       "manufacturers       0\n",
       "mass_kg             0\n",
       "mass_lb             0\n",
       "orbit               0\n",
       "reference_system    0\n",
       "regime              0\n",
       "dtype: int64"
      ]
     },
     "execution_count": 25,
     "metadata": {},
     "output_type": "execute_result"
    }
   ],
   "source": [
    "x.isna().sum()"
   ]
  },
  {
   "cell_type": "code",
   "execution_count": 26,
   "metadata": {},
   "outputs": [],
   "source": [
    "# x.to_csv('payloads.csv') done"
   ]
  },
  {
   "cell_type": "code",
   "execution_count": 27,
   "metadata": {},
   "outputs": [],
   "source": [
    "missions = pd.read_csv('missions.csv')"
   ]
  },
  {
   "cell_type": "code",
   "execution_count": 43,
   "metadata": {},
   "outputs": [
    {
     "data": {
      "text/plain": [
       "Index(['date', 'success', 'launch_id', 'rocket_id', 'launchpad_id', 'payloads',\n",
       "       'name'],\n",
       "      dtype='object')"
      ]
     },
     "execution_count": 43,
     "metadata": {},
     "output_type": "execute_result"
    }
   ],
   "source": [
    "missions.columns"
   ]
  },
  {
   "cell_type": "code",
   "execution_count": 44,
   "metadata": {},
   "outputs": [],
   "source": [
    "cols = ['date','name','rocket_id','launchpad_id','launch_id','success','payloads']"
   ]
  },
  {
   "cell_type": "code",
   "execution_count": 45,
   "metadata": {},
   "outputs": [],
   "source": [
    "missions = missions[cols]"
   ]
  },
  {
   "cell_type": "code",
   "execution_count": 46,
   "metadata": {},
   "outputs": [
    {
     "data": {
      "text/html": [
       "<div>\n",
       "<style scoped>\n",
       "    .dataframe tbody tr th:only-of-type {\n",
       "        vertical-align: middle;\n",
       "    }\n",
       "\n",
       "    .dataframe tbody tr th {\n",
       "        vertical-align: top;\n",
       "    }\n",
       "\n",
       "    .dataframe thead th {\n",
       "        text-align: right;\n",
       "    }\n",
       "</style>\n",
       "<table border=\"1\" class=\"dataframe\">\n",
       "  <thead>\n",
       "    <tr style=\"text-align: right;\">\n",
       "      <th></th>\n",
       "      <th>date</th>\n",
       "      <th>name</th>\n",
       "      <th>rocket_id</th>\n",
       "      <th>launchpad_id</th>\n",
       "      <th>launch_id</th>\n",
       "      <th>success</th>\n",
       "      <th>payloads</th>\n",
       "    </tr>\n",
       "  </thead>\n",
       "  <tbody>\n",
       "    <tr>\n",
       "      <th>0</th>\n",
       "      <td>2006-03-24T22:30:00.000Z</td>\n",
       "      <td>FalconSat</td>\n",
       "      <td>5e9d0d95eda69955f709d1eb</td>\n",
       "      <td>5e9e4502f5090995de566f86</td>\n",
       "      <td>5eb87cd9ffd86e000604b32a</td>\n",
       "      <td>False</td>\n",
       "      <td>['5eb0e4b5b6c3bb0006eeb1e1']</td>\n",
       "    </tr>\n",
       "    <tr>\n",
       "      <th>1</th>\n",
       "      <td>2007-03-21T01:10:00.000Z</td>\n",
       "      <td>DemoSat</td>\n",
       "      <td>5e9d0d95eda69955f709d1eb</td>\n",
       "      <td>5e9e4502f5090995de566f86</td>\n",
       "      <td>5eb87cdaffd86e000604b32b</td>\n",
       "      <td>False</td>\n",
       "      <td>['5eb0e4b6b6c3bb0006eeb1e2']</td>\n",
       "    </tr>\n",
       "    <tr>\n",
       "      <th>2</th>\n",
       "      <td>2008-08-03T03:34:00.000Z</td>\n",
       "      <td>Trailblazer</td>\n",
       "      <td>5e9d0d95eda69955f709d1eb</td>\n",
       "      <td>5e9e4502f5090995de566f86</td>\n",
       "      <td>5eb87cdbffd86e000604b32c</td>\n",
       "      <td>False</td>\n",
       "      <td>['5eb0e4b6b6c3bb0006eeb1e3', '5eb0e4b6b6c3bb00...</td>\n",
       "    </tr>\n",
       "    <tr>\n",
       "      <th>3</th>\n",
       "      <td>2008-09-28T23:15:00.000Z</td>\n",
       "      <td>RatSat</td>\n",
       "      <td>5e9d0d95eda69955f709d1eb</td>\n",
       "      <td>5e9e4502f5090995de566f86</td>\n",
       "      <td>5eb87cdbffd86e000604b32d</td>\n",
       "      <td>True</td>\n",
       "      <td>['5eb0e4b7b6c3bb0006eeb1e5']</td>\n",
       "    </tr>\n",
       "    <tr>\n",
       "      <th>4</th>\n",
       "      <td>2009-07-13T03:35:00.000Z</td>\n",
       "      <td>RazakSat</td>\n",
       "      <td>5e9d0d95eda69955f709d1eb</td>\n",
       "      <td>5e9e4502f5090995de566f86</td>\n",
       "      <td>5eb87cdcffd86e000604b32e</td>\n",
       "      <td>True</td>\n",
       "      <td>['5eb0e4b7b6c3bb0006eeb1e6']</td>\n",
       "    </tr>\n",
       "    <tr>\n",
       "      <th>...</th>\n",
       "      <td>...</td>\n",
       "      <td>...</td>\n",
       "      <td>...</td>\n",
       "      <td>...</td>\n",
       "      <td>...</td>\n",
       "      <td>...</td>\n",
       "      <td>...</td>\n",
       "    </tr>\n",
       "    <tr>\n",
       "      <th>99</th>\n",
       "      <td>2020-08-18T14:31:00.000Z</td>\n",
       "      <td>Starlink-10 (v1.0) &amp; SkySat 19-21</td>\n",
       "      <td>5e9d0d95eda69973a809d1ec</td>\n",
       "      <td>5e9e4501f509094ba4566f84</td>\n",
       "      <td>5ed981d91f30554030d45c2a</td>\n",
       "      <td>True</td>\n",
       "      <td>['5ed9859f1f30554030d45c3f']</td>\n",
       "    </tr>\n",
       "    <tr>\n",
       "      <th>100</th>\n",
       "      <td>2020-08-30T23:18:00.000Z</td>\n",
       "      <td>SAOCOM 1B, GNOMES-1, Tyvak-0172</td>\n",
       "      <td>5e9d0d95eda69973a809d1ec</td>\n",
       "      <td>5e9e4501f509094ba4566f84</td>\n",
       "      <td>5eb87d47ffd86e000604b38a</td>\n",
       "      <td>True</td>\n",
       "      <td>['5eb0e4d1b6c3bb0006eeb259']</td>\n",
       "    </tr>\n",
       "    <tr>\n",
       "      <th>101</th>\n",
       "      <td>2020-09-03T12:46:00.000Z</td>\n",
       "      <td>Starlink-11 (v1.0)</td>\n",
       "      <td>5e9d0d95eda69973a809d1ec</td>\n",
       "      <td>5e9e4502f509094188566f88</td>\n",
       "      <td>5ef6a1e90059c33cee4a828a</td>\n",
       "      <td>True</td>\n",
       "      <td>['5ef6a4600059c33cee4a829e']</td>\n",
       "    </tr>\n",
       "    <tr>\n",
       "      <th>102</th>\n",
       "      <td>2020-10-06T11:29:00.000Z</td>\n",
       "      <td>Starlink-12 (v1.0)</td>\n",
       "      <td>5e9d0d95eda69973a809d1ec</td>\n",
       "      <td>5e9e4502f509094188566f88</td>\n",
       "      <td>5ef6a2090059c33cee4a828b</td>\n",
       "      <td>True</td>\n",
       "      <td>['5ef6a48e0059c33cee4a829f']</td>\n",
       "    </tr>\n",
       "    <tr>\n",
       "      <th>103</th>\n",
       "      <td>2020-10-18T12:25:00.000Z</td>\n",
       "      <td>Starlink-13 (v1.0)</td>\n",
       "      <td>5e9d0d95eda69973a809d1ec</td>\n",
       "      <td>5e9e4502f509094188566f88</td>\n",
       "      <td>5ef6a2bf0059c33cee4a828c</td>\n",
       "      <td>True</td>\n",
       "      <td>['5ef6a4d50059c33cee4a82a1']</td>\n",
       "    </tr>\n",
       "  </tbody>\n",
       "</table>\n",
       "<p>104 rows × 7 columns</p>\n",
       "</div>"
      ],
      "text/plain": [
       "                         date                               name  \\\n",
       "0    2006-03-24T22:30:00.000Z                          FalconSat   \n",
       "1    2007-03-21T01:10:00.000Z                            DemoSat   \n",
       "2    2008-08-03T03:34:00.000Z                        Trailblazer   \n",
       "3    2008-09-28T23:15:00.000Z                             RatSat   \n",
       "4    2009-07-13T03:35:00.000Z                           RazakSat   \n",
       "..                        ...                                ...   \n",
       "99   2020-08-18T14:31:00.000Z  Starlink-10 (v1.0) & SkySat 19-21   \n",
       "100  2020-08-30T23:18:00.000Z    SAOCOM 1B, GNOMES-1, Tyvak-0172   \n",
       "101  2020-09-03T12:46:00.000Z                 Starlink-11 (v1.0)   \n",
       "102  2020-10-06T11:29:00.000Z                 Starlink-12 (v1.0)   \n",
       "103  2020-10-18T12:25:00.000Z                 Starlink-13 (v1.0)   \n",
       "\n",
       "                    rocket_id              launchpad_id  \\\n",
       "0    5e9d0d95eda69955f709d1eb  5e9e4502f5090995de566f86   \n",
       "1    5e9d0d95eda69955f709d1eb  5e9e4502f5090995de566f86   \n",
       "2    5e9d0d95eda69955f709d1eb  5e9e4502f5090995de566f86   \n",
       "3    5e9d0d95eda69955f709d1eb  5e9e4502f5090995de566f86   \n",
       "4    5e9d0d95eda69955f709d1eb  5e9e4502f5090995de566f86   \n",
       "..                        ...                       ...   \n",
       "99   5e9d0d95eda69973a809d1ec  5e9e4501f509094ba4566f84   \n",
       "100  5e9d0d95eda69973a809d1ec  5e9e4501f509094ba4566f84   \n",
       "101  5e9d0d95eda69973a809d1ec  5e9e4502f509094188566f88   \n",
       "102  5e9d0d95eda69973a809d1ec  5e9e4502f509094188566f88   \n",
       "103  5e9d0d95eda69973a809d1ec  5e9e4502f509094188566f88   \n",
       "\n",
       "                    launch_id  success  \\\n",
       "0    5eb87cd9ffd86e000604b32a    False   \n",
       "1    5eb87cdaffd86e000604b32b    False   \n",
       "2    5eb87cdbffd86e000604b32c    False   \n",
       "3    5eb87cdbffd86e000604b32d     True   \n",
       "4    5eb87cdcffd86e000604b32e     True   \n",
       "..                        ...      ...   \n",
       "99   5ed981d91f30554030d45c2a     True   \n",
       "100  5eb87d47ffd86e000604b38a     True   \n",
       "101  5ef6a1e90059c33cee4a828a     True   \n",
       "102  5ef6a2090059c33cee4a828b     True   \n",
       "103  5ef6a2bf0059c33cee4a828c     True   \n",
       "\n",
       "                                              payloads  \n",
       "0                         ['5eb0e4b5b6c3bb0006eeb1e1']  \n",
       "1                         ['5eb0e4b6b6c3bb0006eeb1e2']  \n",
       "2    ['5eb0e4b6b6c3bb0006eeb1e3', '5eb0e4b6b6c3bb00...  \n",
       "3                         ['5eb0e4b7b6c3bb0006eeb1e5']  \n",
       "4                         ['5eb0e4b7b6c3bb0006eeb1e6']  \n",
       "..                                                 ...  \n",
       "99                        ['5ed9859f1f30554030d45c3f']  \n",
       "100                       ['5eb0e4d1b6c3bb0006eeb259']  \n",
       "101                       ['5ef6a4600059c33cee4a829e']  \n",
       "102                       ['5ef6a48e0059c33cee4a829f']  \n",
       "103                       ['5ef6a4d50059c33cee4a82a1']  \n",
       "\n",
       "[104 rows x 7 columns]"
      ]
     },
     "execution_count": 46,
     "metadata": {},
     "output_type": "execute_result"
    }
   ],
   "source": [
    "missions"
   ]
  },
  {
   "cell_type": "code",
   "execution_count": 47,
   "metadata": {},
   "outputs": [
    {
     "data": {
      "text/plain": [
       "date            0\n",
       "name            0\n",
       "rocket_id       0\n",
       "launchpad_id    0\n",
       "launch_id       0\n",
       "success         0\n",
       "payloads        0\n",
       "dtype: int64"
      ]
     },
     "execution_count": 47,
     "metadata": {},
     "output_type": "execute_result"
    }
   ],
   "source": [
    "missions.isna().sum()"
   ]
  },
  {
   "cell_type": "code",
   "execution_count": 49,
   "metadata": {},
   "outputs": [],
   "source": [
    "# csv \n",
    "# missions.to_csv('missions.csv')"
   ]
  },
  {
   "cell_type": "code",
   "execution_count": 50,
   "metadata": {},
   "outputs": [],
   "source": [
    "ships = pd.read_csv('ships.csv')"
   ]
  },
  {
   "cell_type": "code",
   "execution_count": 52,
   "metadata": {},
   "outputs": [
    {
     "data": {
      "text/plain": [
       "Index(['Unnamed: 0', 'ship_id', 'name', 'type', 'active', 'roles', 'mass_kg',\n",
       "       'mass_lb', 'year_built', 'home_port'],\n",
       "      dtype='object')"
      ]
     },
     "execution_count": 52,
     "metadata": {},
     "output_type": "execute_result"
    }
   ],
   "source": [
    "ships.columns"
   ]
  },
  {
   "cell_type": "code",
   "execution_count": 54,
   "metadata": {},
   "outputs": [],
   "source": [
    "ships = ships.drop('Unnamed: 0',axis=1)"
   ]
  },
  {
   "cell_type": "code",
   "execution_count": 56,
   "metadata": {},
   "outputs": [
    {
     "data": {
      "text/plain": [
       "ship_id       0\n",
       "name          0\n",
       "type          0\n",
       "active        0\n",
       "roles         0\n",
       "mass_kg       8\n",
       "mass_lb       8\n",
       "year_built    4\n",
       "home_port     0\n",
       "dtype: int64"
      ]
     },
     "execution_count": 56,
     "metadata": {},
     "output_type": "execute_result"
    }
   ],
   "source": [
    "ships.isna().sum()"
   ]
  },
  {
   "cell_type": "code",
   "execution_count": 57,
   "metadata": {},
   "outputs": [],
   "source": [
    "ships = ships.dropna(axis=0)"
   ]
  },
  {
   "cell_type": "code",
   "execution_count": 59,
   "metadata": {},
   "outputs": [
    {
     "data": {
      "text/plain": [
       "ship_id       0\n",
       "name          0\n",
       "type          0\n",
       "active        0\n",
       "roles         0\n",
       "mass_kg       0\n",
       "mass_lb       0\n",
       "year_built    0\n",
       "home_port     0\n",
       "dtype: int64"
      ]
     },
     "execution_count": 59,
     "metadata": {},
     "output_type": "execute_result"
    }
   ],
   "source": [
    "ships.isna().sum()"
   ]
  },
  {
   "cell_type": "code",
   "execution_count": 61,
   "metadata": {},
   "outputs": [
    {
     "data": {
      "text/plain": [
       "Index(['ship_id', 'name', 'type', 'active', 'roles', 'mass_kg', 'mass_lb',\n",
       "       'year_built', 'home_port'],\n",
       "      dtype='object')"
      ]
     },
     "execution_count": 61,
     "metadata": {},
     "output_type": "execute_result"
    }
   ],
   "source": [
    "ships.columns"
   ]
  },
  {
   "cell_type": "code",
   "execution_count": 62,
   "metadata": {},
   "outputs": [],
   "source": [
    "ships = ships.drop('year_built',axis=1)"
   ]
  },
  {
   "cell_type": "code",
   "execution_count": 63,
   "metadata": {},
   "outputs": [
    {
     "data": {
      "text/plain": [
       "Index(['ship_id', 'name', 'type', 'active', 'roles', 'mass_kg', 'mass_lb',\n",
       "       'home_port'],\n",
       "      dtype='object')"
      ]
     },
     "execution_count": 63,
     "metadata": {},
     "output_type": "execute_result"
    }
   ],
   "source": [
    "ships.columns"
   ]
  },
  {
   "cell_type": "code",
   "execution_count": 64,
   "metadata": {},
   "outputs": [],
   "source": [
    "# ships.to_csv('ships.csv')"
   ]
  },
  {
   "cell_type": "code",
   "execution_count": 95,
   "metadata": {},
   "outputs": [],
   "source": [
    "def one_val(x):\n",
    "    x = x.split(',')[0][2:-1]\n",
    "    return x\n",
    "\n",
    "x = ships['roles'].apply(one_val)"
   ]
  },
  {
   "cell_type": "code",
   "execution_count": 94,
   "metadata": {},
   "outputs": [
    {
     "data": {
      "text/plain": [
       "0          Support Ship\n",
       "4             ASDS Tug'\n",
       "5             ASDS Tug'\n",
       "6     Fairing Recovery'\n",
       "7     Fairing Recovery'\n",
       "8          Support Ship\n",
       "9          Support Ship\n",
       "11         Support Ship\n",
       "12            ASDS Tug'\n",
       "13            ASDS Tug'\n",
       "17         Support Ship\n",
       "19            ASDS Tug'\n",
       "20            ASDS Tug'\n",
       "21            ASDS Tug'\n",
       "22         Support Ship\n",
       "Name: roles, dtype: object"
      ]
     },
     "execution_count": 94,
     "metadata": {},
     "output_type": "execute_result"
    }
   ],
   "source": [
    "x"
   ]
  },
  {
   "cell_type": "code",
   "execution_count": 80,
   "metadata": {},
   "outputs": [
    {
     "data": {
      "text/plain": [
       "0            ['Support Ship', 'Barge Tug']\n",
       "4                             ['ASDS Tug']\n",
       "5                             ['ASDS Tug']\n",
       "6                     ['Fairing Recovery']\n",
       "7                     ['Fairing Recovery']\n",
       "8     ['Support Ship', 'Fairing Recovery']\n",
       "9     ['Support Ship', 'Fairing Recovery']\n",
       "11    ['Support Ship', 'Fairing Recovery']\n",
       "12                            ['ASDS Tug']\n",
       "13                            ['ASDS Tug']\n",
       "17     ['Support Ship', 'Dragon Recovery']\n",
       "19                            ['ASDS Tug']\n",
       "20                            ['ASDS Tug']\n",
       "21                            ['ASDS Tug']\n",
       "22           ['Support Ship', 'Barge Tug']\n",
       "Name: roles, dtype: object"
      ]
     },
     "execution_count": 80,
     "metadata": {},
     "output_type": "execute_result"
    }
   ],
   "source": [
    "ships['roles']"
   ]
  },
  {
   "cell_type": "code",
   "execution_count": 72,
   "metadata": {},
   "outputs": [],
   "source": [
    "string = \"['Support Ship', 'Barge Tug']\""
   ]
  },
  {
   "cell_type": "code",
   "execution_count": 78,
   "metadata": {},
   "outputs": [
    {
     "data": {
      "text/plain": [
       "'Support Ship'"
      ]
     },
     "execution_count": 78,
     "metadata": {},
     "output_type": "execute_result"
    }
   ],
   "source": [
    "string.split(',')[0][2:-1]"
   ]
  },
  {
   "cell_type": "code",
   "execution_count": 96,
   "metadata": {},
   "outputs": [],
   "source": [
    "ships['roles'] = ships['roles'].apply(one_val)"
   ]
  },
  {
   "cell_type": "code",
   "execution_count": 98,
   "metadata": {},
   "outputs": [],
   "source": [
    "# ships.to_csv('ships.csv')"
   ]
  },
  {
   "cell_type": "code",
   "execution_count": 100,
   "metadata": {},
   "outputs": [],
   "source": [
    "rockets = pd.read_csv('rockets.csv')"
   ]
  },
  {
   "cell_type": "code",
   "execution_count": 101,
   "metadata": {
    "scrolled": true
   },
   "outputs": [
    {
     "data": {
      "text/html": [
       "<div>\n",
       "<style scoped>\n",
       "    .dataframe tbody tr th:only-of-type {\n",
       "        vertical-align: middle;\n",
       "    }\n",
       "\n",
       "    .dataframe tbody tr th {\n",
       "        vertical-align: top;\n",
       "    }\n",
       "\n",
       "    .dataframe thead th {\n",
       "        text-align: right;\n",
       "    }\n",
       "</style>\n",
       "<table border=\"1\" class=\"dataframe\">\n",
       "  <thead>\n",
       "    <tr style=\"text-align: right;\">\n",
       "      <th></th>\n",
       "      <th>rocket_id</th>\n",
       "      <th>name</th>\n",
       "      <th>type</th>\n",
       "      <th>active</th>\n",
       "      <th>country</th>\n",
       "      <th>company</th>\n",
       "      <th>height_mt</th>\n",
       "      <th>height_ft</th>\n",
       "      <th>diameter_mt</th>\n",
       "      <th>diameter_ft</th>\n",
       "      <th>mass_kg</th>\n",
       "      <th>mass_lb</th>\n",
       "      <th>stages</th>\n",
       "      <th>boosters</th>\n",
       "      <th>cost_per_launch</th>\n",
       "      <th>landing_legs</th>\n",
       "      <th>engines</th>\n",
       "    </tr>\n",
       "  </thead>\n",
       "  <tbody>\n",
       "    <tr>\n",
       "      <th>0</th>\n",
       "      <td>5e9d0d95eda69955f709d1eb</td>\n",
       "      <td>Falcon 1</td>\n",
       "      <td>rocket</td>\n",
       "      <td>False</td>\n",
       "      <td>Republic of the Marshall Islands</td>\n",
       "      <td>SpaceX</td>\n",
       "      <td>22.25</td>\n",
       "      <td>73.0</td>\n",
       "      <td>1.68</td>\n",
       "      <td>5.5</td>\n",
       "      <td>30146</td>\n",
       "      <td>66460</td>\n",
       "      <td>2</td>\n",
       "      <td>0</td>\n",
       "      <td>6700000</td>\n",
       "      <td>{'number': 0, 'material': None}</td>\n",
       "      <td>{'isp': {'sea_level': 267, 'vacuum': 304}, 'th...</td>\n",
       "    </tr>\n",
       "    <tr>\n",
       "      <th>1</th>\n",
       "      <td>5e9d0d95eda69973a809d1ec</td>\n",
       "      <td>Falcon 9</td>\n",
       "      <td>rocket</td>\n",
       "      <td>True</td>\n",
       "      <td>United States</td>\n",
       "      <td>SpaceX</td>\n",
       "      <td>70.00</td>\n",
       "      <td>229.6</td>\n",
       "      <td>3.70</td>\n",
       "      <td>12.0</td>\n",
       "      <td>549054</td>\n",
       "      <td>1207920</td>\n",
       "      <td>2</td>\n",
       "      <td>0</td>\n",
       "      <td>50000000</td>\n",
       "      <td>{'number': 4, 'material': 'carbon fiber'}</td>\n",
       "      <td>{'isp': {'sea_level': 288, 'vacuum': 312}, 'th...</td>\n",
       "    </tr>\n",
       "    <tr>\n",
       "      <th>2</th>\n",
       "      <td>5e9d0d95eda69974db09d1ed</td>\n",
       "      <td>Falcon Heavy</td>\n",
       "      <td>rocket</td>\n",
       "      <td>True</td>\n",
       "      <td>United States</td>\n",
       "      <td>SpaceX</td>\n",
       "      <td>70.00</td>\n",
       "      <td>229.6</td>\n",
       "      <td>12.20</td>\n",
       "      <td>39.9</td>\n",
       "      <td>1420788</td>\n",
       "      <td>3125735</td>\n",
       "      <td>2</td>\n",
       "      <td>2</td>\n",
       "      <td>90000000</td>\n",
       "      <td>{'number': 12, 'material': 'carbon fiber'}</td>\n",
       "      <td>{'isp': {'sea_level': 288, 'vacuum': 312}, 'th...</td>\n",
       "    </tr>\n",
       "    <tr>\n",
       "      <th>3</th>\n",
       "      <td>5e9d0d96eda699382d09d1ee</td>\n",
       "      <td>Starship</td>\n",
       "      <td>rocket</td>\n",
       "      <td>False</td>\n",
       "      <td>United States</td>\n",
       "      <td>SpaceX</td>\n",
       "      <td>118.00</td>\n",
       "      <td>387.0</td>\n",
       "      <td>9.00</td>\n",
       "      <td>30.0</td>\n",
       "      <td>1335000</td>\n",
       "      <td>2943000</td>\n",
       "      <td>2</td>\n",
       "      <td>0</td>\n",
       "      <td>7000000</td>\n",
       "      <td>{'number': 6, 'material': 'stainless steel'}</td>\n",
       "      <td>{'isp': {'sea_level': 330, 'vacuum': 380}, 'th...</td>\n",
       "    </tr>\n",
       "  </tbody>\n",
       "</table>\n",
       "</div>"
      ],
      "text/plain": [
       "                  rocket_id          name    type  active  \\\n",
       "0  5e9d0d95eda69955f709d1eb      Falcon 1  rocket   False   \n",
       "1  5e9d0d95eda69973a809d1ec      Falcon 9  rocket    True   \n",
       "2  5e9d0d95eda69974db09d1ed  Falcon Heavy  rocket    True   \n",
       "3  5e9d0d96eda699382d09d1ee      Starship  rocket   False   \n",
       "\n",
       "                            country company  height_mt  height_ft  \\\n",
       "0  Republic of the Marshall Islands  SpaceX      22.25       73.0   \n",
       "1                     United States  SpaceX      70.00      229.6   \n",
       "2                     United States  SpaceX      70.00      229.6   \n",
       "3                     United States  SpaceX     118.00      387.0   \n",
       "\n",
       "   diameter_mt  diameter_ft  mass_kg  mass_lb  stages  boosters  \\\n",
       "0         1.68          5.5    30146    66460       2         0   \n",
       "1         3.70         12.0   549054  1207920       2         0   \n",
       "2        12.20         39.9  1420788  3125735       2         2   \n",
       "3         9.00         30.0  1335000  2943000       2         0   \n",
       "\n",
       "   cost_per_launch                                  landing_legs  \\\n",
       "0          6700000               {'number': 0, 'material': None}   \n",
       "1         50000000     {'number': 4, 'material': 'carbon fiber'}   \n",
       "2         90000000    {'number': 12, 'material': 'carbon fiber'}   \n",
       "3          7000000  {'number': 6, 'material': 'stainless steel'}   \n",
       "\n",
       "                                             engines  \n",
       "0  {'isp': {'sea_level': 267, 'vacuum': 304}, 'th...  \n",
       "1  {'isp': {'sea_level': 288, 'vacuum': 312}, 'th...  \n",
       "2  {'isp': {'sea_level': 288, 'vacuum': 312}, 'th...  \n",
       "3  {'isp': {'sea_level': 330, 'vacuum': 380}, 'th...  "
      ]
     },
     "execution_count": 101,
     "metadata": {},
     "output_type": "execute_result"
    }
   ],
   "source": [
    "rockets"
   ]
  },
  {
   "cell_type": "code",
   "execution_count": 102,
   "metadata": {},
   "outputs": [
    {
     "data": {
      "text/plain": [
       "Index(['rocket_id', 'name', 'type', 'active', 'country', 'company',\n",
       "       'height_mt', 'height_ft', 'diameter_mt', 'diameter_ft', 'mass_kg',\n",
       "       'mass_lb', 'stages', 'boosters', 'cost_per_launch', 'landing_legs',\n",
       "       'engines'],\n",
       "      dtype='object')"
      ]
     },
     "execution_count": 102,
     "metadata": {},
     "output_type": "execute_result"
    }
   ],
   "source": [
    "rockets.columns"
   ]
  },
  {
   "cell_type": "code",
   "execution_count": 105,
   "metadata": {},
   "outputs": [],
   "source": [
    "cols = ['rocket_id','name','type','active','country','company','stages','cost_per_launch']"
   ]
  },
  {
   "cell_type": "code",
   "execution_count": 112,
   "metadata": {},
   "outputs": [
    {
     "data": {
      "text/html": [
       "<div>\n",
       "<style scoped>\n",
       "    .dataframe tbody tr th:only-of-type {\n",
       "        vertical-align: middle;\n",
       "    }\n",
       "\n",
       "    .dataframe tbody tr th {\n",
       "        vertical-align: top;\n",
       "    }\n",
       "\n",
       "    .dataframe thead th {\n",
       "        text-align: right;\n",
       "    }\n",
       "</style>\n",
       "<table border=\"1\" class=\"dataframe\">\n",
       "  <thead>\n",
       "    <tr style=\"text-align: right;\">\n",
       "      <th></th>\n",
       "      <th>rocket_id</th>\n",
       "      <th>name</th>\n",
       "      <th>type</th>\n",
       "      <th>active</th>\n",
       "      <th>country</th>\n",
       "      <th>company</th>\n",
       "      <th>stages</th>\n",
       "      <th>cost_per_launch</th>\n",
       "    </tr>\n",
       "  </thead>\n",
       "  <tbody>\n",
       "    <tr>\n",
       "      <th>0</th>\n",
       "      <td>5e9d0d95eda69955f709d1eb</td>\n",
       "      <td>Falcon 1</td>\n",
       "      <td>rocket</td>\n",
       "      <td>False</td>\n",
       "      <td>Republic of the Marshall Islands</td>\n",
       "      <td>SpaceX</td>\n",
       "      <td>2</td>\n",
       "      <td>6700000</td>\n",
       "    </tr>\n",
       "    <tr>\n",
       "      <th>1</th>\n",
       "      <td>5e9d0d95eda69973a809d1ec</td>\n",
       "      <td>Falcon 9</td>\n",
       "      <td>rocket</td>\n",
       "      <td>True</td>\n",
       "      <td>United States</td>\n",
       "      <td>SpaceX</td>\n",
       "      <td>2</td>\n",
       "      <td>50000000</td>\n",
       "    </tr>\n",
       "    <tr>\n",
       "      <th>2</th>\n",
       "      <td>5e9d0d95eda69974db09d1ed</td>\n",
       "      <td>Falcon Heavy</td>\n",
       "      <td>rocket</td>\n",
       "      <td>True</td>\n",
       "      <td>United States</td>\n",
       "      <td>SpaceX</td>\n",
       "      <td>2</td>\n",
       "      <td>90000000</td>\n",
       "    </tr>\n",
       "    <tr>\n",
       "      <th>3</th>\n",
       "      <td>5e9d0d96eda699382d09d1ee</td>\n",
       "      <td>Starship</td>\n",
       "      <td>rocket</td>\n",
       "      <td>False</td>\n",
       "      <td>United States</td>\n",
       "      <td>SpaceX</td>\n",
       "      <td>2</td>\n",
       "      <td>7000000</td>\n",
       "    </tr>\n",
       "  </tbody>\n",
       "</table>\n",
       "</div>"
      ],
      "text/plain": [
       "                  rocket_id          name    type  active  \\\n",
       "0  5e9d0d95eda69955f709d1eb      Falcon 1  rocket   False   \n",
       "1  5e9d0d95eda69973a809d1ec      Falcon 9  rocket    True   \n",
       "2  5e9d0d95eda69974db09d1ed  Falcon Heavy  rocket    True   \n",
       "3  5e9d0d96eda699382d09d1ee      Starship  rocket   False   \n",
       "\n",
       "                            country company  stages  cost_per_launch  \n",
       "0  Republic of the Marshall Islands  SpaceX       2          6700000  \n",
       "1                     United States  SpaceX       2         50000000  \n",
       "2                     United States  SpaceX       2         90000000  \n",
       "3                     United States  SpaceX       2          7000000  "
      ]
     },
     "execution_count": 112,
     "metadata": {},
     "output_type": "execute_result"
    }
   ],
   "source": [
    "rockets[cols]"
   ]
  },
  {
   "cell_type": "code",
   "execution_count": 111,
   "metadata": {},
   "outputs": [],
   "source": [
    "rockets = rockets[cols]"
   ]
  },
  {
   "cell_type": "code",
   "execution_count": 113,
   "metadata": {
    "scrolled": true
   },
   "outputs": [
    {
     "data": {
      "text/plain": [
       "rocket_id          0\n",
       "name               0\n",
       "type               0\n",
       "active             0\n",
       "country            0\n",
       "company            0\n",
       "stages             0\n",
       "cost_per_launch    0\n",
       "dtype: int64"
      ]
     },
     "execution_count": 113,
     "metadata": {},
     "output_type": "execute_result"
    }
   ],
   "source": [
    "rockets.isna().sum()"
   ]
  },
  {
   "cell_type": "code",
   "execution_count": 114,
   "metadata": {},
   "outputs": [
    {
     "data": {
      "text/html": [
       "<div>\n",
       "<style scoped>\n",
       "    .dataframe tbody tr th:only-of-type {\n",
       "        vertical-align: middle;\n",
       "    }\n",
       "\n",
       "    .dataframe tbody tr th {\n",
       "        vertical-align: top;\n",
       "    }\n",
       "\n",
       "    .dataframe thead th {\n",
       "        text-align: right;\n",
       "    }\n",
       "</style>\n",
       "<table border=\"1\" class=\"dataframe\">\n",
       "  <thead>\n",
       "    <tr style=\"text-align: right;\">\n",
       "      <th></th>\n",
       "      <th>rocket_id</th>\n",
       "      <th>name</th>\n",
       "      <th>type</th>\n",
       "      <th>active</th>\n",
       "      <th>country</th>\n",
       "      <th>company</th>\n",
       "      <th>stages</th>\n",
       "      <th>cost_per_launch</th>\n",
       "    </tr>\n",
       "  </thead>\n",
       "  <tbody>\n",
       "    <tr>\n",
       "      <th>0</th>\n",
       "      <td>5e9d0d95eda69955f709d1eb</td>\n",
       "      <td>Falcon 1</td>\n",
       "      <td>rocket</td>\n",
       "      <td>False</td>\n",
       "      <td>Republic of the Marshall Islands</td>\n",
       "      <td>SpaceX</td>\n",
       "      <td>2</td>\n",
       "      <td>6700000</td>\n",
       "    </tr>\n",
       "    <tr>\n",
       "      <th>1</th>\n",
       "      <td>5e9d0d95eda69973a809d1ec</td>\n",
       "      <td>Falcon 9</td>\n",
       "      <td>rocket</td>\n",
       "      <td>True</td>\n",
       "      <td>United States</td>\n",
       "      <td>SpaceX</td>\n",
       "      <td>2</td>\n",
       "      <td>50000000</td>\n",
       "    </tr>\n",
       "    <tr>\n",
       "      <th>2</th>\n",
       "      <td>5e9d0d95eda69974db09d1ed</td>\n",
       "      <td>Falcon Heavy</td>\n",
       "      <td>rocket</td>\n",
       "      <td>True</td>\n",
       "      <td>United States</td>\n",
       "      <td>SpaceX</td>\n",
       "      <td>2</td>\n",
       "      <td>90000000</td>\n",
       "    </tr>\n",
       "    <tr>\n",
       "      <th>3</th>\n",
       "      <td>5e9d0d96eda699382d09d1ee</td>\n",
       "      <td>Starship</td>\n",
       "      <td>rocket</td>\n",
       "      <td>False</td>\n",
       "      <td>United States</td>\n",
       "      <td>SpaceX</td>\n",
       "      <td>2</td>\n",
       "      <td>7000000</td>\n",
       "    </tr>\n",
       "  </tbody>\n",
       "</table>\n",
       "</div>"
      ],
      "text/plain": [
       "                  rocket_id          name    type  active  \\\n",
       "0  5e9d0d95eda69955f709d1eb      Falcon 1  rocket   False   \n",
       "1  5e9d0d95eda69973a809d1ec      Falcon 9  rocket    True   \n",
       "2  5e9d0d95eda69974db09d1ed  Falcon Heavy  rocket    True   \n",
       "3  5e9d0d96eda699382d09d1ee      Starship  rocket   False   \n",
       "\n",
       "                            country company  stages  cost_per_launch  \n",
       "0  Republic of the Marshall Islands  SpaceX       2          6700000  \n",
       "1                     United States  SpaceX       2         50000000  \n",
       "2                     United States  SpaceX       2         90000000  \n",
       "3                     United States  SpaceX       2          7000000  "
      ]
     },
     "execution_count": 114,
     "metadata": {},
     "output_type": "execute_result"
    }
   ],
   "source": [
    "rockets"
   ]
  },
  {
   "cell_type": "code",
   "execution_count": 116,
   "metadata": {},
   "outputs": [],
   "source": [
    "# rockets.to_csv('rockets.csv')"
   ]
  },
  {
   "cell_type": "code",
   "execution_count": 119,
   "metadata": {},
   "outputs": [],
   "source": [
    "s = missions['payloads'][2]"
   ]
  },
  {
   "cell_type": "code",
   "execution_count": 120,
   "metadata": {
    "scrolled": true
   },
   "outputs": [
    {
     "data": {
      "text/plain": [
       "\"['5eb0e4b6b6c3bb0006eeb1e3', '5eb0e4b6b6c3bb0006eeb1e4']\""
      ]
     },
     "execution_count": 120,
     "metadata": {},
     "output_type": "execute_result"
    }
   ],
   "source": [
    "s"
   ]
  },
  {
   "cell_type": "code",
   "execution_count": 143,
   "metadata": {},
   "outputs": [],
   "source": [
    "def one_val_m(x):\n",
    "    return x[2:26]\n",
    "missions['payloads'] = missions['payloads'].apply(one_val_m)"
   ]
  },
  {
   "cell_type": "code",
   "execution_count": 148,
   "metadata": {},
   "outputs": [],
   "source": [
    "cols_m = ['date','name','rocket_id','launchpad_id','launch_id','payloads','success']"
   ]
  },
  {
   "cell_type": "code",
   "execution_count": 150,
   "metadata": {},
   "outputs": [],
   "source": [
    "missions = missions[cols_m]"
   ]
  },
  {
   "cell_type": "code",
   "execution_count": 152,
   "metadata": {},
   "outputs": [
    {
     "data": {
      "text/html": [
       "<div>\n",
       "<style scoped>\n",
       "    .dataframe tbody tr th:only-of-type {\n",
       "        vertical-align: middle;\n",
       "    }\n",
       "\n",
       "    .dataframe tbody tr th {\n",
       "        vertical-align: top;\n",
       "    }\n",
       "\n",
       "    .dataframe thead th {\n",
       "        text-align: right;\n",
       "    }\n",
       "</style>\n",
       "<table border=\"1\" class=\"dataframe\">\n",
       "  <thead>\n",
       "    <tr style=\"text-align: right;\">\n",
       "      <th></th>\n",
       "      <th>date</th>\n",
       "      <th>name</th>\n",
       "      <th>rocket_id</th>\n",
       "      <th>launchpad_id</th>\n",
       "      <th>launch_id</th>\n",
       "      <th>payloads</th>\n",
       "      <th>success</th>\n",
       "    </tr>\n",
       "  </thead>\n",
       "  <tbody>\n",
       "    <tr>\n",
       "      <th>0</th>\n",
       "      <td>2006-03-24T22:30:00.000Z</td>\n",
       "      <td>FalconSat</td>\n",
       "      <td>5e9d0d95eda69955f709d1eb</td>\n",
       "      <td>5e9e4502f5090995de566f86</td>\n",
       "      <td>5eb87cd9ffd86e000604b32a</td>\n",
       "      <td>5eb0e4b5b6c3bb0006eeb1e1</td>\n",
       "      <td>False</td>\n",
       "    </tr>\n",
       "    <tr>\n",
       "      <th>1</th>\n",
       "      <td>2007-03-21T01:10:00.000Z</td>\n",
       "      <td>DemoSat</td>\n",
       "      <td>5e9d0d95eda69955f709d1eb</td>\n",
       "      <td>5e9e4502f5090995de566f86</td>\n",
       "      <td>5eb87cdaffd86e000604b32b</td>\n",
       "      <td>5eb0e4b6b6c3bb0006eeb1e2</td>\n",
       "      <td>False</td>\n",
       "    </tr>\n",
       "    <tr>\n",
       "      <th>2</th>\n",
       "      <td>2008-08-03T03:34:00.000Z</td>\n",
       "      <td>Trailblazer</td>\n",
       "      <td>5e9d0d95eda69955f709d1eb</td>\n",
       "      <td>5e9e4502f5090995de566f86</td>\n",
       "      <td>5eb87cdbffd86e000604b32c</td>\n",
       "      <td>5eb0e4b6b6c3bb0006eeb1e3</td>\n",
       "      <td>False</td>\n",
       "    </tr>\n",
       "    <tr>\n",
       "      <th>3</th>\n",
       "      <td>2008-09-28T23:15:00.000Z</td>\n",
       "      <td>RatSat</td>\n",
       "      <td>5e9d0d95eda69955f709d1eb</td>\n",
       "      <td>5e9e4502f5090995de566f86</td>\n",
       "      <td>5eb87cdbffd86e000604b32d</td>\n",
       "      <td>5eb0e4b7b6c3bb0006eeb1e5</td>\n",
       "      <td>True</td>\n",
       "    </tr>\n",
       "    <tr>\n",
       "      <th>4</th>\n",
       "      <td>2009-07-13T03:35:00.000Z</td>\n",
       "      <td>RazakSat</td>\n",
       "      <td>5e9d0d95eda69955f709d1eb</td>\n",
       "      <td>5e9e4502f5090995de566f86</td>\n",
       "      <td>5eb87cdcffd86e000604b32e</td>\n",
       "      <td>5eb0e4b7b6c3bb0006eeb1e6</td>\n",
       "      <td>True</td>\n",
       "    </tr>\n",
       "    <tr>\n",
       "      <th>...</th>\n",
       "      <td>...</td>\n",
       "      <td>...</td>\n",
       "      <td>...</td>\n",
       "      <td>...</td>\n",
       "      <td>...</td>\n",
       "      <td>...</td>\n",
       "      <td>...</td>\n",
       "    </tr>\n",
       "    <tr>\n",
       "      <th>99</th>\n",
       "      <td>2020-08-18T14:31:00.000Z</td>\n",
       "      <td>Starlink-10 (v1.0) &amp; SkySat 19-21</td>\n",
       "      <td>5e9d0d95eda69973a809d1ec</td>\n",
       "      <td>5e9e4501f509094ba4566f84</td>\n",
       "      <td>5ed981d91f30554030d45c2a</td>\n",
       "      <td>5ed9859f1f30554030d45c3f</td>\n",
       "      <td>True</td>\n",
       "    </tr>\n",
       "    <tr>\n",
       "      <th>100</th>\n",
       "      <td>2020-08-30T23:18:00.000Z</td>\n",
       "      <td>SAOCOM 1B, GNOMES-1, Tyvak-0172</td>\n",
       "      <td>5e9d0d95eda69973a809d1ec</td>\n",
       "      <td>5e9e4501f509094ba4566f84</td>\n",
       "      <td>5eb87d47ffd86e000604b38a</td>\n",
       "      <td>5eb0e4d1b6c3bb0006eeb259</td>\n",
       "      <td>True</td>\n",
       "    </tr>\n",
       "    <tr>\n",
       "      <th>101</th>\n",
       "      <td>2020-09-03T12:46:00.000Z</td>\n",
       "      <td>Starlink-11 (v1.0)</td>\n",
       "      <td>5e9d0d95eda69973a809d1ec</td>\n",
       "      <td>5e9e4502f509094188566f88</td>\n",
       "      <td>5ef6a1e90059c33cee4a828a</td>\n",
       "      <td>5ef6a4600059c33cee4a829e</td>\n",
       "      <td>True</td>\n",
       "    </tr>\n",
       "    <tr>\n",
       "      <th>102</th>\n",
       "      <td>2020-10-06T11:29:00.000Z</td>\n",
       "      <td>Starlink-12 (v1.0)</td>\n",
       "      <td>5e9d0d95eda69973a809d1ec</td>\n",
       "      <td>5e9e4502f509094188566f88</td>\n",
       "      <td>5ef6a2090059c33cee4a828b</td>\n",
       "      <td>5ef6a48e0059c33cee4a829f</td>\n",
       "      <td>True</td>\n",
       "    </tr>\n",
       "    <tr>\n",
       "      <th>103</th>\n",
       "      <td>2020-10-18T12:25:00.000Z</td>\n",
       "      <td>Starlink-13 (v1.0)</td>\n",
       "      <td>5e9d0d95eda69973a809d1ec</td>\n",
       "      <td>5e9e4502f509094188566f88</td>\n",
       "      <td>5ef6a2bf0059c33cee4a828c</td>\n",
       "      <td>5ef6a4d50059c33cee4a82a1</td>\n",
       "      <td>True</td>\n",
       "    </tr>\n",
       "  </tbody>\n",
       "</table>\n",
       "<p>104 rows × 7 columns</p>\n",
       "</div>"
      ],
      "text/plain": [
       "                         date                               name  \\\n",
       "0    2006-03-24T22:30:00.000Z                          FalconSat   \n",
       "1    2007-03-21T01:10:00.000Z                            DemoSat   \n",
       "2    2008-08-03T03:34:00.000Z                        Trailblazer   \n",
       "3    2008-09-28T23:15:00.000Z                             RatSat   \n",
       "4    2009-07-13T03:35:00.000Z                           RazakSat   \n",
       "..                        ...                                ...   \n",
       "99   2020-08-18T14:31:00.000Z  Starlink-10 (v1.0) & SkySat 19-21   \n",
       "100  2020-08-30T23:18:00.000Z    SAOCOM 1B, GNOMES-1, Tyvak-0172   \n",
       "101  2020-09-03T12:46:00.000Z                 Starlink-11 (v1.0)   \n",
       "102  2020-10-06T11:29:00.000Z                 Starlink-12 (v1.0)   \n",
       "103  2020-10-18T12:25:00.000Z                 Starlink-13 (v1.0)   \n",
       "\n",
       "                    rocket_id              launchpad_id  \\\n",
       "0    5e9d0d95eda69955f709d1eb  5e9e4502f5090995de566f86   \n",
       "1    5e9d0d95eda69955f709d1eb  5e9e4502f5090995de566f86   \n",
       "2    5e9d0d95eda69955f709d1eb  5e9e4502f5090995de566f86   \n",
       "3    5e9d0d95eda69955f709d1eb  5e9e4502f5090995de566f86   \n",
       "4    5e9d0d95eda69955f709d1eb  5e9e4502f5090995de566f86   \n",
       "..                        ...                       ...   \n",
       "99   5e9d0d95eda69973a809d1ec  5e9e4501f509094ba4566f84   \n",
       "100  5e9d0d95eda69973a809d1ec  5e9e4501f509094ba4566f84   \n",
       "101  5e9d0d95eda69973a809d1ec  5e9e4502f509094188566f88   \n",
       "102  5e9d0d95eda69973a809d1ec  5e9e4502f509094188566f88   \n",
       "103  5e9d0d95eda69973a809d1ec  5e9e4502f509094188566f88   \n",
       "\n",
       "                    launch_id                  payloads  success  \n",
       "0    5eb87cd9ffd86e000604b32a  5eb0e4b5b6c3bb0006eeb1e1    False  \n",
       "1    5eb87cdaffd86e000604b32b  5eb0e4b6b6c3bb0006eeb1e2    False  \n",
       "2    5eb87cdbffd86e000604b32c  5eb0e4b6b6c3bb0006eeb1e3    False  \n",
       "3    5eb87cdbffd86e000604b32d  5eb0e4b7b6c3bb0006eeb1e5     True  \n",
       "4    5eb87cdcffd86e000604b32e  5eb0e4b7b6c3bb0006eeb1e6     True  \n",
       "..                        ...                       ...      ...  \n",
       "99   5ed981d91f30554030d45c2a  5ed9859f1f30554030d45c3f     True  \n",
       "100  5eb87d47ffd86e000604b38a  5eb0e4d1b6c3bb0006eeb259     True  \n",
       "101  5ef6a1e90059c33cee4a828a  5ef6a4600059c33cee4a829e     True  \n",
       "102  5ef6a2090059c33cee4a828b  5ef6a48e0059c33cee4a829f     True  \n",
       "103  5ef6a2bf0059c33cee4a828c  5ef6a4d50059c33cee4a82a1     True  \n",
       "\n",
       "[104 rows x 7 columns]"
      ]
     },
     "execution_count": 152,
     "metadata": {},
     "output_type": "execute_result"
    }
   ],
   "source": [
    "missions"
   ]
  },
  {
   "cell_type": "code",
   "execution_count": 145,
   "metadata": {},
   "outputs": [],
   "source": [
    "missions.to_csv('missions.csv')"
   ]
  }
 ],
 "metadata": {
  "kernelspec": {
   "display_name": "Python 3",
   "language": "python",
   "name": "python3"
  },
  "language_info": {
   "codemirror_mode": {
    "name": "ipython",
    "version": 3
   },
   "file_extension": ".py",
   "mimetype": "text/x-python",
   "name": "python",
   "nbconvert_exporter": "python",
   "pygments_lexer": "ipython3",
   "version": "3.7.6"
  }
 },
 "nbformat": 4,
 "nbformat_minor": 4
}
